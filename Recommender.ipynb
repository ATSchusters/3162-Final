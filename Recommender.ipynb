{
 "cells": [
  {
   "cell_type": "code",
   "execution_count": 32,
   "id": "8fb74664",
   "metadata": {},
   "outputs": [],
   "source": [
    "import pandas as pd\n",
    "from sklearn.metrics.pairwise import cosine_similarity"
   ]
  },
  {
   "cell_type": "code",
   "execution_count": 33,
   "id": "e552b1e1",
   "metadata": {},
   "outputs": [],
   "source": [
    "df = pd.read_csv(\"dfhappy.csv\")"
   ]
  },
  {
   "cell_type": "markdown",
   "id": "42759c50",
   "metadata": {},
   "source": [
    "# Preprocessing"
   ]
  },
  {
   "cell_type": "code",
   "execution_count": 34,
   "id": "8bf3b36a",
   "metadata": {},
   "outputs": [
    {
     "data": {
      "text/html": [
       "<div>\n",
       "<style scoped>\n",
       "    .dataframe tbody tr th:only-of-type {\n",
       "        vertical-align: middle;\n",
       "    }\n",
       "\n",
       "    .dataframe tbody tr th {\n",
       "        vertical-align: top;\n",
       "    }\n",
       "\n",
       "    .dataframe thead th {\n",
       "        text-align: right;\n",
       "    }\n",
       "</style>\n",
       "<table border=\"1\" class=\"dataframe\">\n",
       "  <thead>\n",
       "    <tr style=\"text-align: right;\">\n",
       "      <th></th>\n",
       "      <th>Unnamed: 0</th>\n",
       "      <th>Overall rank</th>\n",
       "      <th>country</th>\n",
       "      <th>Score</th>\n",
       "      <th>GDP per capita</th>\n",
       "      <th>Social support</th>\n",
       "      <th>Healthy life expectancy</th>\n",
       "      <th>Freedom to make life choices</th>\n",
       "      <th>Generosity</th>\n",
       "      <th>Perceptions of corruption</th>\n",
       "      <th>tavg</th>\n",
       "    </tr>\n",
       "  </thead>\n",
       "  <tbody>\n",
       "    <tr>\n",
       "      <th>0</th>\n",
       "      <td>0</td>\n",
       "      <td>1</td>\n",
       "      <td>Finland</td>\n",
       "      <td>7.769</td>\n",
       "      <td>1.340</td>\n",
       "      <td>1.587</td>\n",
       "      <td>0.986</td>\n",
       "      <td>0.596</td>\n",
       "      <td>0.153</td>\n",
       "      <td>0.393</td>\n",
       "      <td>7.352894</td>\n",
       "    </tr>\n",
       "    <tr>\n",
       "      <th>1</th>\n",
       "      <td>1</td>\n",
       "      <td>2</td>\n",
       "      <td>Denmark</td>\n",
       "      <td>7.600</td>\n",
       "      <td>1.383</td>\n",
       "      <td>1.573</td>\n",
       "      <td>0.996</td>\n",
       "      <td>0.592</td>\n",
       "      <td>0.252</td>\n",
       "      <td>0.410</td>\n",
       "      <td>10.321334</td>\n",
       "    </tr>\n",
       "    <tr>\n",
       "      <th>2</th>\n",
       "      <td>2</td>\n",
       "      <td>3</td>\n",
       "      <td>Norway</td>\n",
       "      <td>7.554</td>\n",
       "      <td>1.488</td>\n",
       "      <td>1.582</td>\n",
       "      <td>1.028</td>\n",
       "      <td>0.603</td>\n",
       "      <td>0.271</td>\n",
       "      <td>0.341</td>\n",
       "      <td>8.104241</td>\n",
       "    </tr>\n",
       "    <tr>\n",
       "      <th>3</th>\n",
       "      <td>3</td>\n",
       "      <td>4</td>\n",
       "      <td>Iceland</td>\n",
       "      <td>7.494</td>\n",
       "      <td>1.380</td>\n",
       "      <td>1.624</td>\n",
       "      <td>1.026</td>\n",
       "      <td>0.591</td>\n",
       "      <td>0.354</td>\n",
       "      <td>0.118</td>\n",
       "      <td>5.449112</td>\n",
       "    </tr>\n",
       "    <tr>\n",
       "      <th>4</th>\n",
       "      <td>4</td>\n",
       "      <td>5</td>\n",
       "      <td>Netherlands</td>\n",
       "      <td>7.488</td>\n",
       "      <td>1.396</td>\n",
       "      <td>1.522</td>\n",
       "      <td>0.999</td>\n",
       "      <td>0.557</td>\n",
       "      <td>0.322</td>\n",
       "      <td>0.298</td>\n",
       "      <td>11.179195</td>\n",
       "    </tr>\n",
       "  </tbody>\n",
       "</table>\n",
       "</div>"
      ],
      "text/plain": [
       "   Unnamed: 0  Overall rank      country  Score  GDP per capita  \\\n",
       "0           0             1      Finland  7.769           1.340   \n",
       "1           1             2      Denmark  7.600           1.383   \n",
       "2           2             3       Norway  7.554           1.488   \n",
       "3           3             4      Iceland  7.494           1.380   \n",
       "4           4             5  Netherlands  7.488           1.396   \n",
       "\n",
       "   Social support  Healthy life expectancy  Freedom to make life choices  \\\n",
       "0           1.587                    0.986                         0.596   \n",
       "1           1.573                    0.996                         0.592   \n",
       "2           1.582                    1.028                         0.603   \n",
       "3           1.624                    1.026                         0.591   \n",
       "4           1.522                    0.999                         0.557   \n",
       "\n",
       "   Generosity  Perceptions of corruption       tavg  \n",
       "0       0.153                      0.393   7.352894  \n",
       "1       0.252                      0.410  10.321334  \n",
       "2       0.271                      0.341   8.104241  \n",
       "3       0.354                      0.118   5.449112  \n",
       "4       0.322                      0.298  11.179195  "
      ]
     },
     "execution_count": 34,
     "metadata": {},
     "output_type": "execute_result"
    }
   ],
   "source": [
    "df.head()"
   ]
  },
  {
   "cell_type": "code",
   "execution_count": 35,
   "id": "44b40fae",
   "metadata": {},
   "outputs": [
    {
     "data": {
      "text/plain": [
       "Index(['Unnamed: 0', 'Overall rank', 'country', 'Score', 'GDP per capita',\n",
       "       'Social support', 'Healthy life expectancy',\n",
       "       'Freedom to make life choices', 'Generosity',\n",
       "       'Perceptions of corruption', 'tavg'],\n",
       "      dtype='object')"
      ]
     },
     "execution_count": 35,
     "metadata": {},
     "output_type": "execute_result"
    }
   ],
   "source": [
    "df.columns"
   ]
  },
  {
   "cell_type": "code",
   "execution_count": 36,
   "id": "af8a76ba",
   "metadata": {},
   "outputs": [
    {
     "data": {
      "text/plain": [
       "Unnamed: 0                      0\n",
       "Overall rank                    0\n",
       "country                         0\n",
       "Score                           0\n",
       "GDP per capita                  0\n",
       "Social support                  0\n",
       "Healthy life expectancy         0\n",
       "Freedom to make life choices    0\n",
       "Generosity                      0\n",
       "Perceptions of corruption       0\n",
       "tavg                            0\n",
       "dtype: int64"
      ]
     },
     "execution_count": 36,
     "metadata": {},
     "output_type": "execute_result"
    }
   ],
   "source": [
    "df.isnull().sum()"
   ]
  },
  {
   "cell_type": "markdown",
   "id": "c85579ef",
   "metadata": {},
   "source": [
    "# Calculate Cosine Similarities"
   ]
  },
  {
   "cell_type": "code",
   "execution_count": 37,
   "id": "58583e38",
   "metadata": {},
   "outputs": [],
   "source": [
    "a = df.drop(['Overall rank','country'], axis = 1)"
   ]
  },
  {
   "cell_type": "code",
   "execution_count": 38,
   "id": "4388a280",
   "metadata": {},
   "outputs": [],
   "source": [
    "cos_sim = cosine_similarity(a, a)"
   ]
  },
  {
   "cell_type": "code",
   "execution_count": 46,
   "id": "34f7ab28",
   "metadata": {},
   "outputs": [
    {
     "data": {
      "text/plain": [
       "array([[1.        , 0.98134245, 0.98289959, ..., 0.01582947, 0.13541862,\n",
       "        0.01403036],\n",
       "       [0.98134245, 1.        , 0.98830746, ..., 0.08940574, 0.22939893,\n",
       "        0.08793547],\n",
       "       [0.98289959, 0.98830746, 1.        , ..., 0.1880407 , 0.31064343,\n",
       "        0.18638128],\n",
       "       ...,\n",
       "       [0.01582947, 0.08940574, 0.1880407 , ..., 1.        , 0.98349571,\n",
       "        0.99999647],\n",
       "       [0.13541862, 0.22939893, 0.31064343, ..., 0.98349571, 1.        ,\n",
       "        0.98349507],\n",
       "       [0.01403036, 0.08793547, 0.18638128, ..., 0.99999647, 0.98349507,\n",
       "        1.        ]])"
      ]
     },
     "execution_count": 46,
     "metadata": {},
     "output_type": "execute_result"
    }
   ],
   "source": [
    "cos_sim"
   ]
  },
  {
   "cell_type": "code",
   "execution_count": 47,
   "id": "0ed90716",
   "metadata": {},
   "outputs": [],
   "source": [
    "df = df.reset_index(drop=True)"
   ]
  },
  {
   "cell_type": "code",
   "execution_count": 48,
   "id": "190f85fe",
   "metadata": {},
   "outputs": [],
   "source": [
    "results = {}\n",
    "for idx, row in df.iterrows():\n",
    "    similar_indices = cos_sim[idx].argsort()[:-100:-1]\n",
    "    similar_items = [(cos_sim[idx][i], df['Overall rank'].iloc[[i]].tolist()[0]) \n",
    "                     for i in similar_indices]     \n",
    "    results[row['Overall rank']] = similar_items[1:]"
   ]
  },
  {
   "cell_type": "code",
   "execution_count": 49,
   "id": "5f6dc52c",
   "metadata": {},
   "outputs": [],
   "source": [
    "def get_name(a_id):\n",
    "    return df[df['Overall rank'] == a_id]['country'].tolist()[0].split(' - ')[0] "
   ]
  },
  {
   "cell_type": "code",
   "execution_count": 53,
   "id": "d97c77ba",
   "metadata": {},
   "outputs": [
    {
     "data": {
      "text/plain": [
       "'Denmark'"
      ]
     },
     "execution_count": 53,
     "metadata": {},
     "output_type": "execute_result"
    }
   ],
   "source": [
    "get_name(2)"
   ]
  },
  {
   "cell_type": "code",
   "execution_count": 54,
   "id": "a7f70fe6",
   "metadata": {},
   "outputs": [],
   "source": [
    "def recommend(item_id, N):\n",
    "    print(f\"Recommending {N} countries similar to {get_name(item_id)} ...\")\n",
    "    print(\"---------------------\")\n",
    "    \n",
    "    recs = results[item_id][:N]\n",
    "    for rec in recs:\n",
    "        print(f\"\\tRecommended with a score {rec[0]}:\\t{get_name(rec[1])} \")"
   ]
  },
  {
   "cell_type": "code",
   "execution_count": 56,
   "id": "1fe689f3",
   "metadata": {},
   "outputs": [
    {
     "name": "stdout",
     "output_type": "stream",
     "text": [
      "Recommending 5 anime similar to Denmark ...\n",
      "---------------------\n",
      "\tRecommended with a score 0.9883074592422463:\tNorway \n",
      "\tRecommended with a score 0.9813424527186669:\tFinland \n",
      "\tRecommended with a score 0.9773663269071154:\tNetherlands \n",
      "\tRecommended with a score 0.9326926985536053:\tNew Zealand \n",
      "\tRecommended with a score 0.9292264461821912:\tIceland \n"
     ]
    }
   ],
   "source": [
    "##Recommending based on all features.\n",
    "recommend(2, 5)"
   ]
  },
  {
   "cell_type": "markdown",
   "id": "7c940c1d",
   "metadata": {},
   "source": [
    "# Recommend based on Healthy life expectancy and GDP per capita"
   ]
  },
  {
   "cell_type": "code",
   "execution_count": 82,
   "id": "2ce199a2",
   "metadata": {},
   "outputs": [],
   "source": [
    "df_health = df[['Overall rank','country','Healthy life expectancy', 'GDP per capita']]"
   ]
  },
  {
   "cell_type": "code",
   "execution_count": 83,
   "id": "67d1244e",
   "metadata": {},
   "outputs": [
    {
     "data": {
      "text/html": [
       "<div>\n",
       "<style scoped>\n",
       "    .dataframe tbody tr th:only-of-type {\n",
       "        vertical-align: middle;\n",
       "    }\n",
       "\n",
       "    .dataframe tbody tr th {\n",
       "        vertical-align: top;\n",
       "    }\n",
       "\n",
       "    .dataframe thead th {\n",
       "        text-align: right;\n",
       "    }\n",
       "</style>\n",
       "<table border=\"1\" class=\"dataframe\">\n",
       "  <thead>\n",
       "    <tr style=\"text-align: right;\">\n",
       "      <th></th>\n",
       "      <th>Overall rank</th>\n",
       "      <th>country</th>\n",
       "      <th>Healthy life expectancy</th>\n",
       "      <th>GDP per capita</th>\n",
       "    </tr>\n",
       "  </thead>\n",
       "  <tbody>\n",
       "    <tr>\n",
       "      <th>0</th>\n",
       "      <td>1</td>\n",
       "      <td>Finland</td>\n",
       "      <td>0.986</td>\n",
       "      <td>1.340</td>\n",
       "    </tr>\n",
       "    <tr>\n",
       "      <th>1</th>\n",
       "      <td>2</td>\n",
       "      <td>Denmark</td>\n",
       "      <td>0.996</td>\n",
       "      <td>1.383</td>\n",
       "    </tr>\n",
       "    <tr>\n",
       "      <th>2</th>\n",
       "      <td>3</td>\n",
       "      <td>Norway</td>\n",
       "      <td>1.028</td>\n",
       "      <td>1.488</td>\n",
       "    </tr>\n",
       "    <tr>\n",
       "      <th>3</th>\n",
       "      <td>4</td>\n",
       "      <td>Iceland</td>\n",
       "      <td>1.026</td>\n",
       "      <td>1.380</td>\n",
       "    </tr>\n",
       "    <tr>\n",
       "      <th>4</th>\n",
       "      <td>5</td>\n",
       "      <td>Netherlands</td>\n",
       "      <td>0.999</td>\n",
       "      <td>1.396</td>\n",
       "    </tr>\n",
       "  </tbody>\n",
       "</table>\n",
       "</div>"
      ],
      "text/plain": [
       "   Overall rank      country  Healthy life expectancy  GDP per capita\n",
       "0             1      Finland                    0.986           1.340\n",
       "1             2      Denmark                    0.996           1.383\n",
       "2             3       Norway                    1.028           1.488\n",
       "3             4      Iceland                    1.026           1.380\n",
       "4             5  Netherlands                    0.999           1.396"
      ]
     },
     "execution_count": 83,
     "metadata": {},
     "output_type": "execute_result"
    }
   ],
   "source": [
    "df_health.head()"
   ]
  },
  {
   "cell_type": "code",
   "execution_count": 84,
   "id": "1eb80735",
   "metadata": {},
   "outputs": [],
   "source": [
    "a = df_health.drop(['Overall rank','country'], axis = 1)"
   ]
  },
  {
   "cell_type": "code",
   "execution_count": 85,
   "id": "40480a41",
   "metadata": {},
   "outputs": [],
   "source": [
    "cos_sim = cosine_similarity(a, a)"
   ]
  },
  {
   "cell_type": "code",
   "execution_count": 86,
   "id": "f1186738",
   "metadata": {},
   "outputs": [
    {
     "data": {
      "text/plain": [
       "array([[1.        , 0.9999477 , 0.99955604, ..., 0.98617028, 0.76888858,\n",
       "        0.99120392],\n",
       "       [0.9999477 , 1.        , 0.99980848, ..., 0.98442372, 0.76230938,\n",
       "        0.9897986 ],\n",
       "       [0.99955604, 0.99980848, 1.        , ..., 0.98079444, 0.74949705,\n",
       "        0.98682075],\n",
       "       ...,\n",
       "       [0.98617028, 0.98442372, 0.98079444, ..., 1.        , 0.86422335,\n",
       "        0.99942982],\n",
       "       [0.76888858, 0.76230938, 0.74949705, ..., 0.86422335, 1.        ,\n",
       "        0.84674349],\n",
       "       [0.99120392, 0.9897986 , 0.98682075, ..., 0.99942982, 0.84674349,\n",
       "        1.        ]])"
      ]
     },
     "execution_count": 86,
     "metadata": {},
     "output_type": "execute_result"
    }
   ],
   "source": [
    "cos_sim"
   ]
  },
  {
   "cell_type": "code",
   "execution_count": 87,
   "id": "837fac77",
   "metadata": {},
   "outputs": [],
   "source": [
    "df_health = df_health.reset_index(drop=True)"
   ]
  },
  {
   "cell_type": "code",
   "execution_count": 88,
   "id": "aefa007c",
   "metadata": {},
   "outputs": [],
   "source": [
    "results = {}\n",
    "for idx, row in df_health.iterrows():\n",
    "    similar_indices = cos_sim[idx].argsort()[:-100:-1]\n",
    "    similar_items = [(cos_sim[idx][i], df_health['Overall rank'].iloc[[i]].tolist()[0]) \n",
    "                     for i in similar_indices]     \n",
    "    results[row['Overall rank']] = similar_items[1:]"
   ]
  },
  {
   "cell_type": "code",
   "execution_count": 89,
   "id": "59607e45",
   "metadata": {},
   "outputs": [],
   "source": [
    "def get_name(a_id):\n",
    "    return df_health[df_health['Overall rank'] == a_id]['country'].tolist()[0].split(' - ')[0] "
   ]
  },
  {
   "cell_type": "code",
   "execution_count": 90,
   "id": "3bea5e29",
   "metadata": {},
   "outputs": [
    {
     "data": {
      "text/plain": [
       "'Denmark'"
      ]
     },
     "execution_count": 90,
     "metadata": {},
     "output_type": "execute_result"
    }
   ],
   "source": [
    "get_name(2)"
   ]
  },
  {
   "cell_type": "code",
   "execution_count": 91,
   "id": "9f6ff1c7",
   "metadata": {},
   "outputs": [],
   "source": [
    "def recommend(item_id, N):\n",
    "    print(f\"Recommending {N} countries similar to {get_name(item_id)} ...\")\n",
    "    print(\"---------------------\")\n",
    "    \n",
    "    recs = results[item_id][:N]\n",
    "    for rec in recs:\n",
    "        print(f\"\\tRecommended with a score {rec[0]}:\\t{get_name(rec[1])} \")"
   ]
  },
  {
   "cell_type": "code",
   "execution_count": 94,
   "id": "90060c13",
   "metadata": {},
   "outputs": [
    {
     "name": "stdout",
     "output_type": "stream",
     "text": [
      "Recommending 5 anime similar to Nepal ...\n",
      "---------------------\n",
      "\tRecommended with a score 0.999965698181197:\tTogo \n",
      "\tRecommended with a score 0.9998163151301659:\tTajikistan \n",
      "\tRecommended with a score 0.9998154442835437:\tEthiopia \n",
      "\tRecommended with a score 0.9996184065770634:\tYemen \n",
      "\tRecommended with a score 0.9991561957832371:\tHaiti \n"
     ]
    }
   ],
   "source": [
    "recommend(100, 5)"
   ]
  },
  {
   "cell_type": "markdown",
   "id": "92437e30",
   "metadata": {},
   "source": [
    "# Recommend based on Generosity, Average Temp., Social support"
   ]
  },
  {
   "cell_type": "code",
   "execution_count": 100,
   "id": "e7b2f3b9",
   "metadata": {},
   "outputs": [],
   "source": [
    "df_generosity = df[['Overall rank','country','Generosity', 'tavg', 'Social support']]"
   ]
  },
  {
   "cell_type": "code",
   "execution_count": 101,
   "id": "beadb96d",
   "metadata": {},
   "outputs": [
    {
     "data": {
      "text/html": [
       "<div>\n",
       "<style scoped>\n",
       "    .dataframe tbody tr th:only-of-type {\n",
       "        vertical-align: middle;\n",
       "    }\n",
       "\n",
       "    .dataframe tbody tr th {\n",
       "        vertical-align: top;\n",
       "    }\n",
       "\n",
       "    .dataframe thead th {\n",
       "        text-align: right;\n",
       "    }\n",
       "</style>\n",
       "<table border=\"1\" class=\"dataframe\">\n",
       "  <thead>\n",
       "    <tr style=\"text-align: right;\">\n",
       "      <th></th>\n",
       "      <th>Overall rank</th>\n",
       "      <th>country</th>\n",
       "      <th>Generosity</th>\n",
       "      <th>tavg</th>\n",
       "      <th>Social support</th>\n",
       "    </tr>\n",
       "  </thead>\n",
       "  <tbody>\n",
       "    <tr>\n",
       "      <th>0</th>\n",
       "      <td>1</td>\n",
       "      <td>Finland</td>\n",
       "      <td>0.153</td>\n",
       "      <td>7.352894</td>\n",
       "      <td>1.587</td>\n",
       "    </tr>\n",
       "    <tr>\n",
       "      <th>1</th>\n",
       "      <td>2</td>\n",
       "      <td>Denmark</td>\n",
       "      <td>0.252</td>\n",
       "      <td>10.321334</td>\n",
       "      <td>1.573</td>\n",
       "    </tr>\n",
       "    <tr>\n",
       "      <th>2</th>\n",
       "      <td>3</td>\n",
       "      <td>Norway</td>\n",
       "      <td>0.271</td>\n",
       "      <td>8.104241</td>\n",
       "      <td>1.582</td>\n",
       "    </tr>\n",
       "    <tr>\n",
       "      <th>3</th>\n",
       "      <td>4</td>\n",
       "      <td>Iceland</td>\n",
       "      <td>0.354</td>\n",
       "      <td>5.449112</td>\n",
       "      <td>1.624</td>\n",
       "    </tr>\n",
       "    <tr>\n",
       "      <th>4</th>\n",
       "      <td>5</td>\n",
       "      <td>Netherlands</td>\n",
       "      <td>0.322</td>\n",
       "      <td>11.179195</td>\n",
       "      <td>1.522</td>\n",
       "    </tr>\n",
       "  </tbody>\n",
       "</table>\n",
       "</div>"
      ],
      "text/plain": [
       "   Overall rank      country  Generosity       tavg  Social support\n",
       "0             1      Finland       0.153   7.352894           1.587\n",
       "1             2      Denmark       0.252  10.321334           1.573\n",
       "2             3       Norway       0.271   8.104241           1.582\n",
       "3             4      Iceland       0.354   5.449112           1.624\n",
       "4             5  Netherlands       0.322  11.179195           1.522"
      ]
     },
     "execution_count": 101,
     "metadata": {},
     "output_type": "execute_result"
    }
   ],
   "source": [
    "df_generosity.head()"
   ]
  },
  {
   "cell_type": "code",
   "execution_count": 102,
   "id": "5914edeb",
   "metadata": {},
   "outputs": [],
   "source": [
    "a = df_generosity.drop(['Overall rank','country'], axis = 1)"
   ]
  },
  {
   "cell_type": "code",
   "execution_count": 103,
   "id": "a5f73277",
   "metadata": {},
   "outputs": [],
   "source": [
    "cos_sim = cosine_similarity(a, a)"
   ]
  },
  {
   "cell_type": "code",
   "execution_count": 104,
   "id": "2a1ae29d",
   "metadata": {},
   "outputs": [
    {
     "data": {
      "text/plain": [
       "array([[1.        , 0.99811342, 0.99972656, ..., 0.20766517, 0.97742433,\n",
       "        0.20574868],\n",
       "       [0.99811342, 1.        , 0.99910029, ..., 0.15109509, 0.98846349,\n",
       "        0.15010307],\n",
       "       [0.99972656, 0.99910029, 1.        , ..., 0.19271322, 0.98118519,\n",
       "        0.1915353 ],\n",
       "       ...,\n",
       "       [0.20766517, 0.15109509, 0.19271322, ..., 1.        , 0.00242452,\n",
       "        0.99914969],\n",
       "       [0.97742433, 0.98846349, 0.98118519, ..., 0.00242452, 1.        ,\n",
       "        0.00274955],\n",
       "       [0.20574868, 0.15010307, 0.1915353 , ..., 0.99914969, 0.00274955,\n",
       "        1.        ]])"
      ]
     },
     "execution_count": 104,
     "metadata": {},
     "output_type": "execute_result"
    }
   ],
   "source": [
    "cos_sim"
   ]
  },
  {
   "cell_type": "code",
   "execution_count": 105,
   "id": "7bffb2b0",
   "metadata": {},
   "outputs": [],
   "source": [
    "df_generosity = df_generosity.reset_index(drop=True)"
   ]
  },
  {
   "cell_type": "code",
   "execution_count": 106,
   "id": "d074681d",
   "metadata": {},
   "outputs": [],
   "source": [
    "results = {}\n",
    "for idx, row in df_health.iterrows():\n",
    "    similar_indices = cos_sim[idx].argsort()[:-100:-1]\n",
    "    similar_items = [(cos_sim[idx][i], df_generosity['Overall rank'].iloc[[i]].tolist()[0]) \n",
    "                     for i in similar_indices]     \n",
    "    results[row['Overall rank']] = similar_items[1:]"
   ]
  },
  {
   "cell_type": "code",
   "execution_count": 107,
   "id": "2ebf60d1",
   "metadata": {},
   "outputs": [],
   "source": [
    "def get_name(a_id):\n",
    "    return df_generosity[df_generosity['Overall rank'] == a_id]['country'].tolist()[0].split(' - ')[0]"
   ]
  },
  {
   "cell_type": "code",
   "execution_count": 108,
   "id": "db97dbc4",
   "metadata": {},
   "outputs": [
    {
     "data": {
      "text/plain": [
       "'Australia'"
      ]
     },
     "execution_count": 108,
     "metadata": {},
     "output_type": "execute_result"
    }
   ],
   "source": [
    "get_name(11)"
   ]
  },
  {
   "cell_type": "code",
   "execution_count": 109,
   "id": "e12e674f",
   "metadata": {},
   "outputs": [],
   "source": [
    "def recommend(item_id, N):\n",
    "    print(f\"Recommending {N} countries similar to {get_name(item_id)} ...\")\n",
    "    print(\"---------------------\")\n",
    "    \n",
    "    recs = results[item_id][:N]\n",
    "    for rec in recs:\n",
    "        print(f\"\\tRecommended with a score {rec[0]}:\\t{get_name(rec[1])} \")"
   ]
  },
  {
   "cell_type": "code",
   "execution_count": 111,
   "id": "2991a957",
   "metadata": {},
   "outputs": [
    {
     "name": "stdout",
     "output_type": "stream",
     "text": [
      "Recommending 5 countries similar to Australia ...\n",
      "---------------------\n",
      "\tRecommended with a score 0.9999985051384672:\tKosovo \n",
      "\tRecommended with a score 0.9999970861545224:\tBosnia and Herzegovina \n",
      "\tRecommended with a score 0.9999931266912492:\tUzbekistan \n",
      "\tRecommended with a score 0.9999885587273373:\tTajikistan \n",
      "\tRecommended with a score 0.9999739481548584:\tMalaysia \n"
     ]
    }
   ],
   "source": [
    "recommend(11, 5)"
   ]
  },
  {
   "cell_type": "code",
   "execution_count": null,
   "id": "9e8919bc",
   "metadata": {},
   "outputs": [],
   "source": []
  },
  {
   "cell_type": "code",
   "execution_count": null,
   "id": "752e2115",
   "metadata": {},
   "outputs": [],
   "source": []
  },
  {
   "cell_type": "code",
   "execution_count": null,
   "id": "307730a3",
   "metadata": {},
   "outputs": [],
   "source": []
  }
 ],
 "metadata": {
  "kernelspec": {
   "display_name": "Python 3 (ipykernel)",
   "language": "python",
   "name": "python3"
  },
  "language_info": {
   "codemirror_mode": {
    "name": "ipython",
    "version": 3
   },
   "file_extension": ".py",
   "mimetype": "text/x-python",
   "name": "python",
   "nbconvert_exporter": "python",
   "pygments_lexer": "ipython3",
   "version": "3.10.6"
  }
 },
 "nbformat": 4,
 "nbformat_minor": 5
}
